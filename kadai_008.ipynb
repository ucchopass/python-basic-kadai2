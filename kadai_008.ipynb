{
  "nbformat": 4,
  "nbformat_minor": 0,
  "metadata": {
    "colab": {
      "provenance": []
    },
    "kernelspec": {
      "name": "python3",
      "display_name": "Python 3"
    },
    "language_info": {
      "name": "python"
    }
  },
  "cells": [
    {
      "cell_type": "code",
      "execution_count": 20,
      "metadata": {
        "colab": {
          "base_uri": "https://localhost:8080/"
        },
        "id": "FjbphTUpV84a",
        "outputId": "64b0f498-6087-47b7-c4c3-3142b78c5e90"
      },
      "outputs": [
        {
          "output_type": "stream",
          "name": "stdout",
          "text": [
            "正の整数を入力してください⇒1\n",
            "1\n"
          ]
        }
      ],
      "source": [
        "var = int(input('正の整数を入力してください⇒'))\n",
        "\n",
        "if var % 3 == 0 and var % 5 == 0:\n",
        "  print('FizzBuzz')\n",
        "elif var % 3 == 0:\n",
        "  print('Fizz')\n",
        "elif var % 5 == 0:\n",
        "  print('Buzz')\n",
        "else:\n",
        "  print(var)"
      ]
    },
    {
      "cell_type": "code",
      "source": [
        "var = int(input('正の整数を入力してください⇒'))\n",
        "\n",
        "if var % 3 == 0 and var % 5 == 0:\n",
        "  print('FizzBuzz')\n",
        "elif var % 3 == 0:\n",
        "  print('Fizz')\n",
        "elif var % 5 == 0:\n",
        "  print('Buzz')\n",
        "else:\n",
        "  print(var)"
      ],
      "metadata": {
        "colab": {
          "base_uri": "https://localhost:8080/"
        },
        "id": "4juFVj8YrjNx",
        "outputId": "028b0250-b5a8-4c98-9957-a716d1ab0867"
      },
      "execution_count": 21,
      "outputs": [
        {
          "output_type": "stream",
          "name": "stdout",
          "text": [
            "正の整数を入力してください⇒2\n",
            "2\n"
          ]
        }
      ]
    },
    {
      "cell_type": "code",
      "source": [
        "var = int(input('正の整数を入力してください⇒'))\n",
        "\n",
        "if var % 3 == 0 and var % 5 == 0:\n",
        "  print('FizzBuzz')\n",
        "elif var % 3 == 0:\n",
        "  print('Fizz')\n",
        "elif var % 5 == 0:\n",
        "  print('Buzz')\n",
        "else:\n",
        "  print(var)"
      ],
      "metadata": {
        "colab": {
          "base_uri": "https://localhost:8080/"
        },
        "id": "KJYLNHrSrneh",
        "outputId": "4d20c211-82dd-46b1-ab78-476db79bca49"
      },
      "execution_count": 22,
      "outputs": [
        {
          "output_type": "stream",
          "name": "stdout",
          "text": [
            "正の整数を入力してください⇒3\n",
            "Fizz\n"
          ]
        }
      ]
    },
    {
      "cell_type": "code",
      "source": [
        "var = int(input('正の整数を入力してください⇒'))\n",
        "\n",
        "if var % 3 == 0 and var % 5 == 0:\n",
        "  print('FizzBuzz')\n",
        "elif var % 3 == 0:\n",
        "  print('Fizz')\n",
        "elif var % 5 == 0:\n",
        "  print('Buzz')\n",
        "else:\n",
        "  print(var)"
      ],
      "metadata": {
        "colab": {
          "base_uri": "https://localhost:8080/"
        },
        "id": "ZODpTblIruKq",
        "outputId": "773c10bd-44a8-482f-ce18-14dd9ba36a4e"
      },
      "execution_count": 23,
      "outputs": [
        {
          "output_type": "stream",
          "name": "stdout",
          "text": [
            "正の整数を入力してください⇒4\n",
            "4\n"
          ]
        }
      ]
    },
    {
      "cell_type": "code",
      "source": [
        "var = int(input('正の整数を入力してください⇒'))\n",
        "\n",
        "if var % 3 == 0 and var % 5 == 0:\n",
        "  print('FizzBuzz')\n",
        "elif var % 3 == 0:\n",
        "  print('Fizz')\n",
        "elif var % 5 == 0:\n",
        "  print('Buzz')\n",
        "else:\n",
        "  print(var)"
      ],
      "metadata": {
        "colab": {
          "base_uri": "https://localhost:8080/"
        },
        "id": "Bl-REiqFryCC",
        "outputId": "2271bc5b-267c-44ce-9cee-334b8177f376"
      },
      "execution_count": 25,
      "outputs": [
        {
          "output_type": "stream",
          "name": "stdout",
          "text": [
            "正の整数を入力してください⇒5\n",
            "Buzz\n"
          ]
        }
      ]
    },
    {
      "cell_type": "code",
      "source": [
        "var = int(input('正の整数を入力してください⇒'))\n",
        "\n",
        "if var % 3 == 0 and var % 5 == 0:\n",
        "  print('FizzBuzz')\n",
        "elif var % 3 == 0:\n",
        "  print('Fizz')\n",
        "elif var % 5 == 0:\n",
        "  print('Buzz')\n",
        "else:\n",
        "  print(var)"
      ],
      "metadata": {
        "colab": {
          "base_uri": "https://localhost:8080/"
        },
        "id": "CyvNANEsr5OZ",
        "outputId": "aae18398-c872-4118-e9d1-991761184fdb"
      },
      "execution_count": 26,
      "outputs": [
        {
          "output_type": "stream",
          "name": "stdout",
          "text": [
            "正の整数を入力してください⇒6\n",
            "Fizz\n"
          ]
        }
      ]
    },
    {
      "cell_type": "code",
      "source": [
        "var = int(input('正の整数を入力してください⇒'))\n",
        "\n",
        "if var % 3 == 0 and var % 5 == 0:\n",
        "  print('FizzBuzz')\n",
        "elif var % 3 == 0:\n",
        "  print('Fizz')\n",
        "elif var % 5 == 0:\n",
        "  print('Buzz')\n",
        "else:\n",
        "  print(var)"
      ],
      "metadata": {
        "colab": {
          "base_uri": "https://localhost:8080/"
        },
        "id": "-GFopjAlr7xx",
        "outputId": "4dc36c81-0e33-4e04-c885-5d263c068dfa"
      },
      "execution_count": 27,
      "outputs": [
        {
          "output_type": "stream",
          "name": "stdout",
          "text": [
            "正の整数を入力してください⇒7\n",
            "7\n"
          ]
        }
      ]
    },
    {
      "cell_type": "code",
      "source": [
        "var = int(input('正の整数を入力してください⇒'))\n",
        "\n",
        "if var % 3 == 0 and var % 5 == 0:\n",
        "  print('FizzBuzz')\n",
        "elif var % 3 == 0:\n",
        "  print('Fizz')\n",
        "elif var % 5 == 0:\n",
        "  print('Buzz')\n",
        "else:\n",
        "  print(var)"
      ],
      "metadata": {
        "colab": {
          "base_uri": "https://localhost:8080/"
        },
        "id": "wJdq4qtar-tx",
        "outputId": "57db3176-2513-44a5-dd33-0f7b5ff9af31"
      },
      "execution_count": 28,
      "outputs": [
        {
          "output_type": "stream",
          "name": "stdout",
          "text": [
            "正の整数を入力してください⇒8\n",
            "8\n"
          ]
        }
      ]
    },
    {
      "cell_type": "code",
      "source": [
        "var = int(input('正の整数を入力してください⇒'))\n",
        "\n",
        "if var % 3 == 0 and var % 5 == 0:\n",
        "  print('FizzBuzz')\n",
        "elif var % 3 == 0:\n",
        "  print('Fizz')\n",
        "elif var % 5 == 0:\n",
        "  print('Buzz')\n",
        "else:\n",
        "  print(var)"
      ],
      "metadata": {
        "colab": {
          "base_uri": "https://localhost:8080/"
        },
        "id": "Ey0sxopFsBTr",
        "outputId": "a31ea99f-a440-4f90-bd61-48841ee1c498"
      },
      "execution_count": 29,
      "outputs": [
        {
          "output_type": "stream",
          "name": "stdout",
          "text": [
            "正の整数を入力してください⇒9\n",
            "Fizz\n"
          ]
        }
      ]
    },
    {
      "cell_type": "code",
      "source": [
        "var = int(input('正の整数を入力してください⇒'))\n",
        "\n",
        "if var % 3 == 0 and var % 5 == 0:\n",
        "  print('FizzBuzz')\n",
        "elif var % 3 == 0:\n",
        "  print('Fizz')\n",
        "elif var % 5 == 0:\n",
        "  print('Buzz')\n",
        "else:\n",
        "  print(var)"
      ],
      "metadata": {
        "colab": {
          "base_uri": "https://localhost:8080/"
        },
        "id": "ZxeY1ChzsEOr",
        "outputId": "68eadc5a-70c8-43fa-c8a8-4bd34fb6a27a"
      },
      "execution_count": 30,
      "outputs": [
        {
          "output_type": "stream",
          "name": "stdout",
          "text": [
            "正の整数を入力してください⇒10\n",
            "Buzz\n"
          ]
        }
      ]
    },
    {
      "cell_type": "code",
      "source": [
        "var = int(input('正の整数を入力してください⇒'))\n",
        "\n",
        "if var % 3 == 0 and var % 5 == 0:\n",
        "  print('FizzBuzz')\n",
        "elif var % 3 == 0:\n",
        "  print('Fizz')\n",
        "elif var % 5 == 0:\n",
        "  print('Buzz')\n",
        "else:\n",
        "  print(var)"
      ],
      "metadata": {
        "colab": {
          "base_uri": "https://localhost:8080/"
        },
        "id": "aWyqWZyUsJqJ",
        "outputId": "0a88c62d-5428-4b13-e51a-0ed631d19457"
      },
      "execution_count": 31,
      "outputs": [
        {
          "output_type": "stream",
          "name": "stdout",
          "text": [
            "正の整数を入力してください⇒11\n",
            "11\n"
          ]
        }
      ]
    },
    {
      "cell_type": "code",
      "source": [
        "var = int(input('正の整数を入力してください⇒'))\n",
        "\n",
        "if var % 3 == 0 and var % 5 == 0:\n",
        "  print('FizzBuzz')\n",
        "elif var % 3 == 0:\n",
        "  print('Fizz')\n",
        "elif var % 5 == 0:\n",
        "  print('Buzz')\n",
        "else:\n",
        "  print(var)"
      ],
      "metadata": {
        "colab": {
          "base_uri": "https://localhost:8080/"
        },
        "id": "AOLNlG6JsL8J",
        "outputId": "50925b89-0711-474c-800b-0932bdf22bdc"
      },
      "execution_count": 32,
      "outputs": [
        {
          "output_type": "stream",
          "name": "stdout",
          "text": [
            "正の整数を入力してください⇒12\n",
            "Fizz\n"
          ]
        }
      ]
    },
    {
      "cell_type": "code",
      "source": [
        "var = int(input('正の整数を入力してください⇒'))\n",
        "\n",
        "if var % 3 == 0 and var % 5 == 0:\n",
        "  print('FizzBuzz')\n",
        "elif var % 3 == 0:\n",
        "  print('Fizz')\n",
        "elif var % 5 == 0:\n",
        "  print('Buzz')\n",
        "else:\n",
        "  print(var)"
      ],
      "metadata": {
        "colab": {
          "base_uri": "https://localhost:8080/"
        },
        "id": "ADQ-A-dUsPEk",
        "outputId": "d5253195-40f6-460d-ca6e-6a4c9bc550a1"
      },
      "execution_count": 33,
      "outputs": [
        {
          "output_type": "stream",
          "name": "stdout",
          "text": [
            "正の整数を入力してください⇒13\n",
            "13\n"
          ]
        }
      ]
    },
    {
      "cell_type": "code",
      "source": [
        "var = int(input('正の整数を入力してください⇒'))\n",
        "\n",
        "if var % 3 == 0 and var % 5 == 0:\n",
        "  print('FizzBuzz')\n",
        "elif var % 3 == 0:\n",
        "  print('Fizz')\n",
        "elif var % 5 == 0:\n",
        "  print('Buzz')\n",
        "else:\n",
        "  print(var)"
      ],
      "metadata": {
        "colab": {
          "base_uri": "https://localhost:8080/"
        },
        "id": "AFrxD04BsSTz",
        "outputId": "6c8f4bbe-4dfd-4ef2-b8e1-47eb1a63e5a7"
      },
      "execution_count": 34,
      "outputs": [
        {
          "output_type": "stream",
          "name": "stdout",
          "text": [
            "正の整数を入力してください⇒14\n",
            "14\n"
          ]
        }
      ]
    },
    {
      "cell_type": "code",
      "source": [
        "var = int(input('正の整数を入力してください⇒'))\n",
        "\n",
        "if var % 3 == 0 and var % 5 == 0:\n",
        "  print('FizzBuzz')\n",
        "elif var % 3 == 0:\n",
        "  print('Fizz')\n",
        "elif var % 5 == 0:\n",
        "  print('Buzz')\n",
        "else:\n",
        "  print(var)"
      ],
      "metadata": {
        "colab": {
          "base_uri": "https://localhost:8080/"
        },
        "id": "EZeQSBmnsUox",
        "outputId": "54e13fa7-cac7-4f50-f906-e8f1aba2df02"
      },
      "execution_count": 35,
      "outputs": [
        {
          "output_type": "stream",
          "name": "stdout",
          "text": [
            "正の整数を入力してください⇒15\n",
            "FizzBuzz\n"
          ]
        }
      ]
    }
  ]
}