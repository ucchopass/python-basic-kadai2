{
  "nbformat": 4,
  "nbformat_minor": 0,
  "metadata": {
    "colab": {
      "provenance": []
    },
    "kernelspec": {
      "name": "python3",
      "display_name": "Python 3"
    },
    "language_info": {
      "name": "python"
    }
  },
  "cells": [
    {
      "cell_type": "code",
      "source": [
        "def calculate_total_price(price, tax_rate):\n",
        "  total = price * (1 + tax_rate)\n",
        "  return   total\n",
        "\n",
        "# 商品の値段が1000円の場合\n",
        "merchandise_price = 1000\n",
        "# 消費税10％\n",
        "tax_rate = 0.1\n",
        "print('合計金額:', calculate_total_price(merchandise_price, tax_rate))"
      ],
      "metadata": {
        "colab": {
          "base_uri": "https://localhost:8080/"
        },
        "id": "NkfoEmmTbbwf",
        "outputId": "c6a50e38-af9d-4fdf-d5f4-dffc99bbfd95"
      },
      "execution_count": null,
      "outputs": [
        {
          "output_type": "stream",
          "name": "stdout",
          "text": [
            "合計金額: 1100.0\n"
          ]
        }
      ]
    }
  ]
}